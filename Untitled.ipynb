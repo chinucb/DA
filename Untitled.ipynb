{
 "cells": [
  {
   "cell_type": "code",
   "execution_count": 2,
   "id": "ce05f42e-857f-4fa0-923a-689b65ffcceb",
   "metadata": {},
   "outputs": [],
   "source": [
    "import pandas as pd"
   ]
  },
  {
   "cell_type": "code",
   "execution_count": 3,
   "id": "d48bc53e-48ff-409d-a7be-7f6831c9d1cc",
   "metadata": {},
   "outputs": [
    {
     "data": {
      "text/plain": [
       "price                       0\n",
       "price_category              0\n",
       "type                        0\n",
       "beds                        0\n",
       "baths                       0\n",
       "address                     0\n",
       "furnishing                  0\n",
       "completion_status           0\n",
       "post_date                   0\n",
       "average_rent                0\n",
       "building_name               0\n",
       "year_of_completion          0\n",
       "total_parking_spaces        0\n",
       "total_floors                0\n",
       "total_building_area_sqft    0\n",
       "elevators                   0\n",
       "area_name                   0\n",
       "city                        0\n",
       "country                     0\n",
       "Latitude                    0\n",
       "Longitude                   0\n",
       "purpose                     0\n",
       "dtype: int64"
      ]
     },
     "execution_count": 3,
     "metadata": {},
     "output_type": "execute_result"
    }
   ],
   "source": [
    "df=pd.read_csv('ricks.csv')\n",
    "df.isnull().sum()"
   ]
  },
  {
   "cell_type": "code",
   "execution_count": null,
   "id": "396bd290-221c-4253-9ce3-61ea9ff7e8f9",
   "metadata": {},
   "outputs": [],
   "source": []
  }
 ],
 "metadata": {
  "kernelspec": {
   "display_name": "Python 3 (ipykernel)",
   "language": "python",
   "name": "python3"
  },
  "language_info": {
   "codemirror_mode": {
    "name": "ipython",
    "version": 3
   },
   "file_extension": ".py",
   "mimetype": "text/x-python",
   "name": "python",
   "nbconvert_exporter": "python",
   "pygments_lexer": "ipython3",
   "version": "3.12.2"
  }
 },
 "nbformat": 4,
 "nbformat_minor": 5
}
